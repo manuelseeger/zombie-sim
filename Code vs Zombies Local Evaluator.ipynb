{
 "cells": [
  {
   "cell_type": "markdown",
   "id": "77114d45",
   "metadata": {},
   "source": [
    "# Code vs Zombies"
   ]
  },
  {
   "cell_type": "code",
   "execution_count": 5,
   "id": "a1eafce8",
   "metadata": {},
   "outputs": [],
   "source": [
    "import numpy as np\n",
    "from numpy.linalg import norm\n",
    "from functools import reduce\n",
    "from scenarios import scenarios\n",
    "import time\n",
    "import math\n",
    "from zombies import TargetZombiesTargettingHumansLearningAgent, CodevVsZombies\n",
    "\n",
    "from termcolor import colored"
   ]
  },
  {
   "cell_type": "markdown",
   "id": "28c97fab",
   "metadata": {},
   "source": [
    "## Hyperparameters"
   ]
  },
  {
   "cell_type": "code",
   "execution_count": 48,
   "id": "a1fde42f",
   "metadata": {},
   "outputs": [],
   "source": [
    "TAU = 4\n",
    "SIGMA = 4\n",
    "BETA = 2\n",
    "\n",
    "alpha = 0"
   ]
  },
  {
   "cell_type": "markdown",
   "id": "de4e5685",
   "metadata": {},
   "source": [
    "## Main scoring"
   ]
  },
  {
   "cell_type": "code",
   "execution_count": 72,
   "id": "37334f7a",
   "metadata": {
    "scrolled": false
   },
   "outputs": [
    {
     "name": "stdout",
     "output_type": "stream",
     "text": [
      "Simple : 10\u001b[0m\n",
      "2 zombies : 80\u001b[0m\n",
      "2 zombies redux : 80\u001b[0m\n",
      "Scared human : 20\u001b[0m\n",
      "3vs3 : 120\u001b[0m\n",
      "Combo opportunity : 4320\u001b[0m\n",
      "Rows to defend : 1000\u001b[0m\n",
      "Rows to defend redux : 1080\u001b[0m\n",
      "Rectangle : 650\u001b[0m\n",
      "Cross : 1600\u001b[0m\n",
      "Unavoidable deaths : 260\u001b[0m\n",
      "Columns of death : 440\u001b[0m\n",
      "Rescue : 6840\u001b[0m\n",
      "Triangle : 540\u001b[0m\n",
      "Grave Danger : 3040\u001b[0m\n",
      "Grid : 1170\u001b[0m\n",
      "Hoard : 9640\u001b[0m\n",
      "Flanked! : 18490\u001b[0m\n",
      "SplitSecond : 20\u001b[0m\n",
      "Swervy pattern : 2840\u001b[0m\n",
      "Devastation : 9650\u001b[0m\n"
     ]
    },
    {
     "data": {
      "text/plain": [
       "61890"
      ]
     },
     "execution_count": 72,
     "metadata": {},
     "output_type": "execute_result"
    }
   ],
   "source": [
    "scores = []\n",
    "for scenario, data in scenarios.items(): \n",
    "    \n",
    "    A, humans, zombies = data\n",
    "    \n",
    "    env = CodevVsZombies(A, humans, zombies)\n",
    "    \n",
    "    ash = TargetZombiesTargettingHumansLearningAgent()\n",
    "    ash.TAU = TAU\n",
    "    ash.SIGMA = SIGMA\n",
    "    ash.BETA = BETA\n",
    "    \n",
    "    start_time = time.perf_counter()\n",
    "    complexity = humans.shape[0] + zombies.shape[0]\n",
    "    max_episodes = 60 - int(math.sqrt( 100 + complexity**2 )) + alpha\n",
    "    training = []\n",
    "    max_reward = 0\n",
    "    \n",
    "    for e in range(max_episodes):\n",
    "        state = env.reset()\n",
    "        ash.reset()\n",
    "\n",
    "        done = False\n",
    "        total_reward = 0\n",
    "        reward = 0\n",
    "        while not done:\n",
    "            action = ash.act(state)\n",
    "            state, reward, done, _ = env.step(action)\n",
    "            A, humans, zombies = state\n",
    "            total_reward += reward\n",
    "            # try early exiting:\n",
    "            if env.score(env.zombies) < max_reward:\n",
    "                #rint('Early exit')\n",
    "                break\n",
    "\n",
    "        if e == 0:\n",
    "            max_reward = total_reward\n",
    "            training = ash.history\n",
    "        else:\n",
    "            if total_reward > max_reward:\n",
    "                max_reward = total_reward\n",
    "                training = ash.history\n",
    "        #print('Episode {}, reward {}'.format(e, total_reward))\n",
    "\n",
    "    end_time = time.perf_counter()\n",
    "    #print(f\"Execution Time : {end_time - start_time:0.6f}\" )\n",
    "    if max_reward == 0:\n",
    "        out = colored('{} : {}'.format(scenario, max_reward), color='red')\n",
    "    else:\n",
    "        out = colored('{} : {}'.format(scenario, max_reward))\n",
    "    print(out)\n",
    "    scores.append(max_reward)\n",
    "sum(scores)"
   ]
  },
  {
   "cell_type": "code",
   "execution_count": 8,
   "id": "433ee1af",
   "metadata": {},
   "outputs": [
    {
     "data": {
      "text/plain": [
       "74260"
      ]
     },
     "execution_count": 8,
     "metadata": {},
     "output_type": "execute_result"
    }
   ],
   "source": [
    "sum(scores)"
   ]
  }
 ],
 "metadata": {
  "kernelspec": {
   "display_name": "Python 3",
   "language": "python",
   "name": "python3"
  },
  "language_info": {
   "codemirror_mode": {
    "name": "ipython",
    "version": 3
   },
   "file_extension": ".py",
   "mimetype": "text/x-python",
   "name": "python",
   "nbconvert_exporter": "python",
   "pygments_lexer": "ipython3",
   "version": "3.7.10"
  }
 },
 "nbformat": 4,
 "nbformat_minor": 5
}
